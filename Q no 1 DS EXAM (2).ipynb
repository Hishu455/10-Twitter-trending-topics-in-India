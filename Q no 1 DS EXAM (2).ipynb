{
 "cells": [
  {
   "cell_type": "markdown",
   "id": "199a798e",
   "metadata": {},
   "source": [
    "# DATA PROFILING"
   ]
  },
  {
   "cell_type": "code",
   "execution_count": null,
   "id": "d00d62b5",
   "metadata": {},
   "outputs": [],
   "source": [
    "import tweepy"
   ]
  },
  {
   "cell_type": "markdown",
   "id": "56f817cb",
   "metadata": {},
   "source": [
    "# TAKING ACCESS FROM TWITTER VIA API"
   ]
  },
  {
   "cell_type": "code",
   "execution_count": null,
   "id": "36cdb446",
   "metadata": {},
   "outputs": [],
   "source": [
    "consumer_key = \"nu6GHaSepn6Psa8o7sIPqKReV\"\n",
    "consumer_secret = \"f2T5l5c4qbTucKYADgSUBeKXDCZIlWXUw8eTdAwDCRq80OQ0Zz\"\n",
    "access_token = \"726798816632926210-btXkETHqanP5CWYHNom8Ul8SnARm8tn\"\n",
    "access_token_secret = \"m4XSrb7aet0684eHpYxWLVQi8bkHY1QdzPd0ObnVBW6ho\"\n",
    "auth = tweepy.OAuthHandler(consumer_key, consumer_secret)\n",
    "auth.set_access_token(access_token, access_token_secret)\n",
    "api = tweepy.API(auth)\n",
    "woeid = 23424848\n"
   ]
  },
  {
   "cell_type": "markdown",
   "id": "5e19fb61",
   "metadata": {},
   "source": [
    "# Top 10 Trending Tweets in India"
   ]
  },
  {
   "cell_type": "code",
   "execution_count": null,
   "id": "e14b18d2",
   "metadata": {},
   "outputs": [],
   "source": [
    "trends = api.get_place_trends(id = woeid)\n",
    "print(\"The top trends for the location are :\")\n",
    "\n",
    "for value in trends:\n",
    "    for trend in value['trends']:\n",
    "        print(trend['name'])"
   ]
  }
 ],
 "metadata": {
  "kernelspec": {
   "display_name": "Python 3 (ipykernel)",
   "language": "python",
   "name": "python3"
  },
  "language_info": {
   "codemirror_mode": {
    "name": "ipython",
    "version": 3
   },
   "file_extension": ".py",
   "mimetype": "text/x-python",
   "name": "python",
   "nbconvert_exporter": "python",
   "pygments_lexer": "ipython3",
   "version": "3.11.5"
  }
 },
 "nbformat": 4,
 "nbformat_minor": 5
}
